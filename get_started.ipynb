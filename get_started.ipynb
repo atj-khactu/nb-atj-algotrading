{
 "cells": [
  {
   "metadata": {},
   "cell_type": "markdown",
   "source": [
    "# Get Started - Example Code\n",
    "\n",
    "In this Notebook, we will cover basic usage of ATJ Traders' Algo Trading Lib, focusing on the **MT5_WebAPI_Client** class and **Backtester** class.\n",
    "\n",
    "Install the library using pip: ```pip install atj-algotrading```\n",
    "\n",
    "---"
   ],
   "id": "f4028dbc36a8ba16"
  },
  {
   "metadata": {},
   "cell_type": "markdown",
   "source": [
    "## MT5 WebAPI Client\n",
    "\n",
    "The MT5 WebAPI Client has the capacity to communicate with MetaTrader5 which is interfaced with a Flask Rest API Server. Let's start by instantiating the class"
   ],
   "id": "8d73ec32475f858"
  },
  {
   "metadata": {
    "ExecuteTime": {
     "end_time": "2024-11-04T17:10:05.322076Z",
     "start_time": "2024-11-04T17:10:05.092836Z"
    }
   },
   "cell_type": "code",
   "source": "from atj_algotrading.mt5_webapi_client import MT5_Client",
   "id": "7156b7c7bad014cb",
   "outputs": [
    {
     "ename": "ModuleNotFoundError",
     "evalue": "No module named 'atj_algotrading.mt5_webapi_client'",
     "output_type": "error",
     "traceback": [
      "\u001B[1;31m---------------------------------------------------------------------------\u001B[0m",
      "\u001B[1;31mModuleNotFoundError\u001B[0m                       Traceback (most recent call last)",
      "Cell \u001B[1;32mIn[3], line 1\u001B[0m\n\u001B[1;32m----> 1\u001B[0m \u001B[38;5;28;01mfrom\u001B[39;00m \u001B[38;5;21;01matj_algotrading\u001B[39;00m\u001B[38;5;21;01m.\u001B[39;00m\u001B[38;5;21;01mmt5_webapi_client\u001B[39;00m \u001B[38;5;28;01mimport\u001B[39;00m MT5_Client\n",
      "\u001B[1;31mModuleNotFoundError\u001B[0m: No module named 'atj_algotrading.mt5_webapi_client'"
     ]
    }
   ],
   "execution_count": 3
  },
  {
   "metadata": {},
   "cell_type": "code",
   "outputs": [],
   "execution_count": null,
   "source": "",
   "id": "18e3242125f9cc77"
  }
 ],
 "metadata": {
  "kernelspec": {
   "display_name": "Python 3",
   "language": "python",
   "name": "python3"
  },
  "language_info": {
   "codemirror_mode": {
    "name": "ipython",
    "version": 2
   },
   "file_extension": ".py",
   "mimetype": "text/x-python",
   "name": "python",
   "nbconvert_exporter": "python",
   "pygments_lexer": "ipython2",
   "version": "2.7.6"
  }
 },
 "nbformat": 4,
 "nbformat_minor": 5
}
