{
 "cells": [
  {
   "metadata": {},
   "cell_type": "markdown",
   "source": [
    "# 03 - Pandas Quicksheet\n",
    " Pandas in a nutshell is excel on steroids. Pandas allows us to handle tabular data with ease and is the core framework for analysis, backtests and trading bots. In this section, you will find useful Pandas code examples. \n",
    " \n",
    "## Install Pandas\n",
    "> pip install pandas\n"
   ],
   "id": "90a0bf878d5e8d52"
  },
  {
   "metadata": {},
   "cell_type": "markdown",
   "source": [
    "---\n",
    "## Creating a DataFrame"
   ],
   "id": "ff71176d73b8ebb6"
  },
  {
   "metadata": {
    "ExecuteTime": {
     "end_time": "2024-11-20T13:42:32.296507Z",
     "start_time": "2024-11-20T13:42:32.284143Z"
    }
   },
   "cell_type": "code",
   "source": [
    "# package import\n",
    "import pandas as pd\n",
    "\n",
    "# Create a DataFrame from a csv file\n",
    "df = pd.read_csv('data/symbols.csv')\n",
    "print(df)"
   ],
   "id": "8c303f2404b20913",
   "outputs": [
    {
     "name": "stdout",
     "output_type": "stream",
     "text": [
      "   symbol  asset_class quote_currency\n",
      "0  EURUSD        Forex            USD\n",
      "1  USDJPY        Forex            JPY\n",
      "2  XAUUSD        Metal            USD\n",
      "3  BTCUSD       Crypto            USD\n",
      "4   US100  Stock Index            USD\n"
     ]
    }
   ],
   "execution_count": 10
  },
  {
   "metadata": {
    "ExecuteTime": {
     "end_time": "2024-11-20T13:42:35.312607Z",
     "start_time": "2024-11-20T13:42:35.302479Z"
    }
   },
   "cell_type": "code",
   "source": [
    "# Use IPython.display to display DataFrames in a nicer layout\n",
    "from IPython.display import display\n",
    "display(df)"
   ],
   "id": "c027c5aa1e34ac6a",
   "outputs": [
    {
     "data": {
      "text/plain": [
       "   symbol  asset_class quote_currency\n",
       "0  EURUSD        Forex            USD\n",
       "1  USDJPY        Forex            JPY\n",
       "2  XAUUSD        Metal            USD\n",
       "3  BTCUSD       Crypto            USD\n",
       "4   US100  Stock Index            USD"
      ],
      "text/html": [
       "<div>\n",
       "<style scoped>\n",
       "    .dataframe tbody tr th:only-of-type {\n",
       "        vertical-align: middle;\n",
       "    }\n",
       "\n",
       "    .dataframe tbody tr th {\n",
       "        vertical-align: top;\n",
       "    }\n",
       "\n",
       "    .dataframe thead th {\n",
       "        text-align: right;\n",
       "    }\n",
       "</style>\n",
       "<table border=\"1\" class=\"dataframe\">\n",
       "  <thead>\n",
       "    <tr style=\"text-align: right;\">\n",
       "      <th></th>\n",
       "      <th>symbol</th>\n",
       "      <th>asset_class</th>\n",
       "      <th>quote_currency</th>\n",
       "    </tr>\n",
       "  </thead>\n",
       "  <tbody>\n",
       "    <tr>\n",
       "      <th>0</th>\n",
       "      <td>EURUSD</td>\n",
       "      <td>Forex</td>\n",
       "      <td>USD</td>\n",
       "    </tr>\n",
       "    <tr>\n",
       "      <th>1</th>\n",
       "      <td>USDJPY</td>\n",
       "      <td>Forex</td>\n",
       "      <td>JPY</td>\n",
       "    </tr>\n",
       "    <tr>\n",
       "      <th>2</th>\n",
       "      <td>XAUUSD</td>\n",
       "      <td>Metal</td>\n",
       "      <td>USD</td>\n",
       "    </tr>\n",
       "    <tr>\n",
       "      <th>3</th>\n",
       "      <td>BTCUSD</td>\n",
       "      <td>Crypto</td>\n",
       "      <td>USD</td>\n",
       "    </tr>\n",
       "    <tr>\n",
       "      <th>4</th>\n",
       "      <td>US100</td>\n",
       "      <td>Stock Index</td>\n",
       "      <td>USD</td>\n",
       "    </tr>\n",
       "  </tbody>\n",
       "</table>\n",
       "</div>"
      ]
     },
     "metadata": {},
     "output_type": "display_data"
    }
   ],
   "execution_count": 11
  },
  {
   "metadata": {},
   "cell_type": "markdown",
   "source": "",
   "id": "25ed41f7ffaf4d1a"
  }
 ],
 "metadata": {
  "kernelspec": {
   "display_name": "Python 3",
   "language": "python",
   "name": "python3"
  },
  "language_info": {
   "codemirror_mode": {
    "name": "ipython",
    "version": 2
   },
   "file_extension": ".py",
   "mimetype": "text/x-python",
   "name": "python",
   "nbconvert_exporter": "python",
   "pygments_lexer": "ipython2",
   "version": "2.7.6"
  }
 },
 "nbformat": 4,
 "nbformat_minor": 5
}
