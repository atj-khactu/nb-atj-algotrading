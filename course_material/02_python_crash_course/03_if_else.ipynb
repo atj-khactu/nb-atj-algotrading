{
 "cells": [
  {
   "metadata": {},
   "cell_type": "markdown",
   "source": [
    "# 02 - Python Crash Course - Lesson 3\n",
    "In this lesson, we will have a look at If-Else Statements.\n",
    "\n",
    "## Content in this Notebook:\n",
    "\n",
    "* 2.8 - If, Elif, Else Statements"
   ],
   "id": "1fbb05953d24b395"
  },
  {
   "metadata": {},
   "cell_type": "markdown",
   "source": [
    "---\n",
    "## 2.8 - If, Elif, Else Statements"
   ],
   "id": "72302997e1a248d7"
  },
  {
   "metadata": {
    "ExecuteTime": {
     "end_time": "2024-11-18T13:45:05.384336Z",
     "start_time": "2024-11-18T13:45:05.381832Z"
    }
   },
   "cell_type": "code",
   "source": [
    "# Simple If Statement\n",
    "\n",
    "a = 10\n",
    "b = 20\n",
    "\n",
    "if a > b:\n",
    "    print('a is greater than b')\n",
    "elif a < b:\n",
    "    print('a is less than b')\n",
    "else:\n",
    "    print('a is equal to b')"
   ],
   "id": "bb3a7bfc145a80e9",
   "outputs": [
    {
     "name": "stdout",
     "output_type": "stream",
     "text": [
      "a is less than b\n"
     ]
    }
   ],
   "execution_count": 6
  },
  {
   "metadata": {
    "ExecuteTime": {
     "end_time": "2024-11-18T13:52:05.313822Z",
     "start_time": "2024-11-18T13:52:05.310376Z"
    }
   },
   "cell_type": "code",
   "source": [
    "# Using with AND operator\n",
    "\n",
    "a = 5\n",
    "b = 10\n",
    "c = 15\n",
    "\n",
    "if a < b and a < c:\n",
    "    print('Both conditions must be True')"
   ],
   "id": "27d2a74ceb72bca",
   "outputs": [
    {
     "name": "stdout",
     "output_type": "stream",
     "text": [
      "Both conditions are true\n"
     ]
    }
   ],
   "execution_count": 9
  },
  {
   "metadata": {
    "ExecuteTime": {
     "end_time": "2024-11-18T13:52:45.676938Z",
     "start_time": "2024-11-18T13:52:45.674108Z"
    }
   },
   "cell_type": "code",
   "source": [
    "# Using with OR operator\n",
    "\n",
    "a = 5\n",
    "b = 10\n",
    "c = 15\n",
    "\n",
    "if a < b or a > c:\n",
    "    print('Only one condition needs to be True')"
   ],
   "id": "c15304170d8437b1",
   "outputs": [
    {
     "name": "stdout",
     "output_type": "stream",
     "text": [
      "Only one condition needs to be True\n"
     ]
    }
   ],
   "execution_count": 10
  },
  {
   "metadata": {
    "ExecuteTime": {
     "end_time": "2024-11-18T14:12:33.675842Z",
     "start_time": "2024-11-18T14:12:33.672278Z"
    }
   },
   "cell_type": "code",
   "source": [
    "# Using If-Else inside a Loop\n",
    "\n",
    "for i in range(10):\n",
    "    if i < 4:\n",
    "        print(i, '- i is less than 4')\n",
    "    elif 4 <= i <= 6:\n",
    "        print(i, '- i is between 4 and 6')\n",
    "    else:\n",
    "        print(i, '- i is greater than 6')\n",
    "        "
   ],
   "id": "d4a46e2afba7c3b0",
   "outputs": [
    {
     "name": "stdout",
     "output_type": "stream",
     "text": [
      "0 - i is less than 4\n",
      "1 - i is less than 4\n",
      "2 - i is less than 4\n",
      "3 - i is less than 4\n",
      "4 - i is between 4 and 6\n",
      "5 - i is between 4 and 6\n",
      "6 - i is between 4 and 6\n",
      "7 - i is greater than 6\n",
      "8 - i is greater than 6\n",
      "9 - i is greater than 6\n"
     ]
    }
   ],
   "execution_count": 16
  },
  {
   "metadata": {},
   "cell_type": "code",
   "outputs": [],
   "execution_count": null,
   "source": "",
   "id": "bd89c55dc85486e5"
  }
 ],
 "metadata": {
  "kernelspec": {
   "display_name": "Python 3",
   "language": "python",
   "name": "python3"
  },
  "language_info": {
   "codemirror_mode": {
    "name": "ipython",
    "version": 2
   },
   "file_extension": ".py",
   "mimetype": "text/x-python",
   "name": "python",
   "nbconvert_exporter": "python",
   "pygments_lexer": "ipython2",
   "version": "2.7.6"
  }
 },
 "nbformat": 4,
 "nbformat_minor": 5
}
