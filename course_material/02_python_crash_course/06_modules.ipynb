{
 "cells": [
  {
   "metadata": {},
   "cell_type": "markdown",
   "source": [
    "# 02 - Python Crash Course - Lesson 6\n",
    "Modules are a collection of code (variables, functions and classes) that you can import into your Python File or Jupyter Notebook.\n",
    "\n",
    "Python has an extensive list of built-in modules that have pre-written code ready to be used. These modules have a wide range of uses and unfortunately, we are not able to cover all of them. You will learn the most important ones that will be used for Algorithmic Trading\n",
    "\n",
    "Besides built-in modules, you can also use public open source modules that are commonly hosted on GitHub or PyPi. Thanks to these Open Source projects, we can build our applications thanks to contributions by the Python Community.\n",
    "\n",
    "## Content in this Notebook:\n",
    "\n",
    "* 2.9 - Import your own Module\n",
    "* 2.10 - Python Built-In Modules\n",
    "* 2.11 - Using external Modules using PIP"
   ],
   "id": "89880d6cd7a2d8bf"
  },
  {
   "metadata": {},
   "cell_type": "markdown",
   "source": [
    "---\n",
    "## Import your own Module"
   ],
   "id": "465f08a4f560b6db"
  },
  {
   "metadata": {
    "ExecuteTime": {
     "end_time": "2024-11-19T16:27:21.729504Z",
     "start_time": "2024-11-19T16:27:21.722165Z"
    }
   },
   "cell_type": "code",
   "source": [
    "# importing variables, functions and classes from another Python file\n",
    "from modules_example.trading_bot import module_variable1, do_something, TradingBot\n",
    "\n",
    "# printing module_variable1 from trading_bot.py\n",
    "print(module_variable1)"
   ],
   "id": "983c587a16b883f0",
   "outputs": [
    {
     "name": "stdout",
     "output_type": "stream",
     "text": [
      "Some Variable\n"
     ]
    }
   ],
   "execution_count": 1
  },
  {
   "metadata": {
    "ExecuteTime": {
     "end_time": "2024-11-19T16:27:40.097888Z",
     "start_time": "2024-11-19T16:27:40.094909Z"
    }
   },
   "cell_type": "code",
   "source": [
    "# calling do_something() function from modules_example/trading_bot.py\n",
    "do_something()"
   ],
   "id": "afd684b5507758d1",
   "outputs": [
    {
     "name": "stdout",
     "output_type": "stream",
     "text": [
      "Doing something...\n"
     ]
    }
   ],
   "execution_count": 3
  },
  {
   "metadata": {
    "ExecuteTime": {
     "end_time": "2024-11-19T16:29:30.522034Z",
     "start_time": "2024-11-19T16:29:30.518594Z"
    }
   },
   "cell_type": "code",
   "source": [
    "# initializing TradingBot class from modules_example/trading_bot.py\n",
    "# For more information about the class, check Lesson 5 (05_classes.ipynb)\n",
    "bot = TradingBot('ATJ Bot', 10000, 'EUR')\n",
    "print('Bot Name', bot.name)\n",
    "\n",
    "# Opening hypothetical trade\n",
    "bot.open_trade('EURUSD', 'buy', 1000)"
   ],
   "id": "f43e2034b189b267",
   "outputs": [
    {
     "name": "stdout",
     "output_type": "stream",
     "text": [
      "Bot Name ATJ Bot\n",
      "The Bot is opening a buy trade on EURUSD with volume 1000\n"
     ]
    }
   ],
   "execution_count": 7
  },
  {
   "metadata": {},
   "cell_type": "markdown",
   "source": [
    "---\n",
    "## Python Built-in Modules\n",
    "Python has an extensive list of built-in modules that have pre-written code ready to be used. These modules have a wide range of uses and unfortunately, we are not able to cover all of them. You can find the full list of built-in modules here: https://docs.python.org/3/py-modindex.html \n",
    "\n",
    "In the following examples, you will learn how to use built-in module \"datetime\"."
   ],
   "id": "6e76a6c4572fa703"
  },
  {
   "metadata": {},
   "cell_type": "markdown",
   "source": [
    "### Datetime Module\n",
    "The Datetime Module allows you to access and manipulate datetime data"
   ],
   "id": "e577cd59402ce286"
  },
  {
   "metadata": {
    "ExecuteTime": {
     "end_time": "2024-11-19T16:53:58.380969Z",
     "start_time": "2024-11-19T16:53:58.370596Z"
    }
   },
   "cell_type": "code",
   "source": [
    "# importing datetime module\n",
    "from datetime import datetime\n",
    "\n",
    "# get current time\n",
    "print('Current time:', datetime.now())\n",
    "\n",
    "# get current date\n",
    "print('Current date', datetime.now().date())\n",
    "\n",
    "# convert string to date\n",
    "dt_string = '2024-11-19 20:00:00'\n",
    "dt_converted = datetime.strptime(dt_string, '%Y-%m-%d %H:%M:%S')\n",
    "print('Converted string:', dt_converted)\n",
    "print('---\\n')\n",
    "\n",
    "# adding time to datetime\n",
    "from datetime import timedelta\n",
    "\n",
    "print('Adding / Subtracting Time')\n",
    "dt1 = datetime(2024, 11, 19)\n",
    "\n",
    "print('Initial datetime:', dt1)\n",
    "print('Adding Time:', dt1 + timedelta(days=7))\n",
    "print('Subtracting Time:', dt1 - timedelta(days=7))"
   ],
   "id": "705061cc8385875",
   "outputs": [
    {
     "name": "stdout",
     "output_type": "stream",
     "text": [
      "Current time: 2024-11-19 17:53:58.370596\n",
      "Current date 2024-11-19\n",
      "Converted string: 2024-11-19 20:00:00\n",
      "---\n",
      "\n",
      "Adding / Subtracting Time\n",
      "Initial datetime: 2024-11-19 00:00:00\n",
      "Adding Time: 2024-11-26 00:00:00\n",
      "Subtracting Time: 2024-11-12 00:00:00\n"
     ]
    }
   ],
   "execution_count": 14
  },
  {
   "metadata": {},
   "cell_type": "markdown",
   "source": "",
   "id": "983bf5d8f50fdeab"
  },
  {
   "metadata": {},
   "cell_type": "markdown",
   "source": [
    "---\n",
    "## Using external Modules using PIP\n",
    "In the JupyterLab hosted by ATJ Traders, all external Modules are already installed. However, if you wish to run a module on your local computer, you can use PIP (Package Installer for Python). \n",
    "\n",
    "In the example below, we are using the external packages atj-algotrading, pandas and plotly. To install these packages, you need to have Python and PIP installed on your local pc and run the following commands in the command line. For detailed instructions, visit section x.x.\n",
    "\n",
    "> pip install atj-algotrading\n",
    "\n",
    "> pip install pandas\n",
    "\n",
    "> pip install plotly\n"
   ],
   "id": "8023e1e319dcdb6f"
  },
  {
   "metadata": {},
   "cell_type": "code",
   "outputs": [],
   "execution_count": null,
   "source": [
    "from atj_algotrading import MarketData\n",
    "\n",
    "# retrieve OHLC Data"
   ],
   "id": "73c682c796abdf41"
  }
 ],
 "metadata": {
  "kernelspec": {
   "display_name": "Python 3",
   "language": "python",
   "name": "python3"
  },
  "language_info": {
   "codemirror_mode": {
    "name": "ipython",
    "version": 2
   },
   "file_extension": ".py",
   "mimetype": "text/x-python",
   "name": "python",
   "nbconvert_exporter": "python",
   "pygments_lexer": "ipython2",
   "version": "2.7.6"
  }
 },
 "nbformat": 4,
 "nbformat_minor": 5
}
