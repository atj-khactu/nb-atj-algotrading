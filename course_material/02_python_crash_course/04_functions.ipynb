{
 "cells": [
  {
   "metadata": {},
   "cell_type": "markdown",
   "source": [
    "# 02 - Python Crash Course - Lesson 4\n",
    "In this lesson, we will have a look at Functions.\n",
    "\n",
    "## Content in this Notebook:\n",
    "\n",
    "* 2.9 - Functions\n",
    "* 2.10 - Functions with return\n",
    "* 2.11 - Functions with Parameters\n",
    "* 2.12 - Functions with Keyword Parameters"
   ],
   "id": "e3b8cfa1e35c6302"
  },
  {
   "metadata": {},
   "cell_type": "markdown",
   "source": [
    "---\n",
    "## 2.9 - Functions\n",
    "A function is a collection of code that is executed upon being called"
   ],
   "id": "3c84cec7f6eea1cf"
  },
  {
   "metadata": {
    "ExecuteTime": {
     "end_time": "2024-11-19T15:27:03.654028Z",
     "start_time": "2024-11-19T15:27:03.651264Z"
    }
   },
   "cell_type": "code",
   "source": [
    "# You define functions using 'def' keyword.\n",
    "\n",
    "def print_something():\n",
    "    print('printing something')"
   ],
   "id": "806ae3c66730e99b",
   "outputs": [],
   "execution_count": 3
  },
  {
   "metadata": {
    "ExecuteTime": {
     "end_time": "2024-11-19T15:27:04.074492Z",
     "start_time": "2024-11-19T15:27:04.071857Z"
    }
   },
   "cell_type": "code",
   "source": [
    "# Functions do not run the function is defined. To run a function, you need to call it.\n",
    "\n",
    "print_something()"
   ],
   "id": "97eb6ee757041dcb",
   "outputs": [
    {
     "name": "stdout",
     "output_type": "stream",
     "text": [
      "printing something\n"
     ]
    }
   ],
   "execution_count": 4
  },
  {
   "metadata": {
    "ExecuteTime": {
     "end_time": "2024-11-19T15:32:23.205473Z",
     "start_time": "2024-11-19T15:32:23.201474Z"
    }
   },
   "cell_type": "code",
   "source": [
    "# Functions can accept arguments\n",
    "\n",
    "def add_numbers(a, b):\n",
    "    result = a + b\n",
    "    \n",
    "    print(result)\n",
    "    \n",
    "a = 5\n",
    "b = 10\n",
    "\n",
    "add_numbers(a, b)"
   ],
   "id": "6b2bd0f15394f3a1",
   "outputs": [
    {
     "name": "stdout",
     "output_type": "stream",
     "text": [
      "15\n"
     ]
    }
   ],
   "execution_count": 5
  },
  {
   "metadata": {
    "ExecuteTime": {
     "end_time": "2024-11-19T15:35:08.191401Z",
     "start_time": "2024-11-19T15:35:08.188045Z"
    }
   },
   "cell_type": "code",
   "source": [
    "# Functions can accept keyword arguments\n",
    "\n",
    "def add_numbers(first_number=None, second_number=None):\n",
    "    result = first_number + second_number\n",
    "    \n",
    "    print(result)\n",
    "    \n",
    "a = 5\n",
    "b = 10\n",
    "\n",
    "add_numbers(first_number=a, second_number=b)"
   ],
   "id": "e23bc85c1b840b67",
   "outputs": [
    {
     "name": "stdout",
     "output_type": "stream",
     "text": [
      "15\n"
     ]
    }
   ],
   "execution_count": 7
  },
  {
   "metadata": {
    "ExecuteTime": {
     "end_time": "2024-11-19T15:37:10.686874Z",
     "start_time": "2024-11-19T15:37:10.683761Z"
    }
   },
   "cell_type": "code",
   "source": [
    "# Functions can return a value that you can store in a variable\n",
    "\n",
    "def join_strings(string1, string2):\n",
    "    return string1 + string2\n",
    "\n",
    "string1 = 'ATJ'\n",
    "string2 = 'Trader'\n",
    "\n",
    "string3 = join_strings(string1, string2)\n",
    "print(string3)"
   ],
   "id": "48161bc0a85cf285",
   "outputs": [
    {
     "name": "stdout",
     "output_type": "stream",
     "text": [
      "ATJTrader\n"
     ]
    }
   ],
   "execution_count": 9
  },
  {
   "metadata": {},
   "cell_type": "markdown",
   "source": "",
   "id": "32763fb77159372f"
  }
 ],
 "metadata": {
  "kernelspec": {
   "display_name": "Python 3",
   "language": "python",
   "name": "python3"
  },
  "language_info": {
   "codemirror_mode": {
    "name": "ipython",
    "version": 2
   },
   "file_extension": ".py",
   "mimetype": "text/x-python",
   "name": "python",
   "nbconvert_exporter": "python",
   "pygments_lexer": "ipython2",
   "version": "2.7.6"
  }
 },
 "nbformat": 4,
 "nbformat_minor": 5
}
