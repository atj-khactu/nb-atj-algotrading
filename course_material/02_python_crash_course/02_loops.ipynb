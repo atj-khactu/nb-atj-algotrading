{
 "cells": [
  {
   "metadata": {},
   "cell_type": "markdown",
   "source": [
    "# 02 - Python Crash Course - Lesson 2\n",
    "In this lesson, we will have a look at Loops.\n",
    "\n",
    "## Content in this Notebook:\n",
    "\n",
    "* 2.4 - For Loops\n",
    "* 2.5 - While Loops"
   ],
   "id": "5a7ec236fa34fc44"
  },
  {
   "metadata": {},
   "cell_type": "markdown",
   "source": [
    "---\n",
    "## 2.4 For Loops\n",
    "A For Loop starts with the keyword \"for\". With a For Loop, you can iterate through any iterable data type such as strings or lists."
   ],
   "id": "24f9fac12ee6efe6"
  },
  {
   "metadata": {
    "ExecuteTime": {
     "end_time": "2024-11-14T16:32:01.486693Z",
     "start_time": "2024-11-14T16:32:01.482746Z"
    }
   },
   "cell_type": "code",
   "source": [
    "# iterating through a string\n",
    "some_string = 'abcdefg'\n",
    "\n",
    "for letter in some_string:\n",
    "    print(letter)"
   ],
   "id": "78284b0e82fa0f7d",
   "outputs": [
    {
     "name": "stdout",
     "output_type": "stream",
     "text": [
      "a\n",
      "b\n",
      "c\n",
      "d\n",
      "e\n",
      "f\n",
      "g\n"
     ]
    }
   ],
   "execution_count": 1
  },
  {
   "metadata": {
    "ExecuteTime": {
     "end_time": "2024-11-14T16:32:40.755696Z",
     "start_time": "2024-11-14T16:32:40.752784Z"
    }
   },
   "cell_type": "code",
   "source": [
    "# iterating through a list\n",
    "symbol_list = ['EURUSD', 'GBPUSD', 'US30', 'BTCUSD']\n",
    "\n",
    "# Iterating through a list - More will be covered in section loops\n",
    "for symbol in symbol_list:\n",
    "    print(symbol)"
   ],
   "id": "b32dab22b4af800c",
   "outputs": [
    {
     "name": "stdout",
     "output_type": "stream",
     "text": [
      "EURUSD\n",
      "GBPUSD\n",
      "US30\n",
      "BTCUSD\n"
     ]
    }
   ],
   "execution_count": 2
  },
  {
   "metadata": {
    "ExecuteTime": {
     "end_time": "2024-11-14T16:34:19.193692Z",
     "start_time": "2024-11-14T16:34:19.190195Z"
    }
   },
   "cell_type": "code",
   "source": [
    "# Iterating through a range of number values\n",
    "for i in range(10):\n",
    "    print(i)"
   ],
   "id": "61425c23d162dab3",
   "outputs": [
    {
     "name": "stdout",
     "output_type": "stream",
     "text": [
      "0\n",
      "1\n",
      "2\n",
      "3\n",
      "4\n",
      "5\n",
      "6\n",
      "7\n",
      "8\n",
      "9\n"
     ]
    }
   ],
   "execution_count": 5
  },
  {
   "metadata": {},
   "cell_type": "code",
   "outputs": [],
   "execution_count": null,
   "source": "",
   "id": "d2c025e45ea79d18"
  }
 ],
 "metadata": {
  "kernelspec": {
   "display_name": "Python 3",
   "language": "python",
   "name": "python3"
  },
  "language_info": {
   "codemirror_mode": {
    "name": "ipython",
    "version": 2
   },
   "file_extension": ".py",
   "mimetype": "text/x-python",
   "name": "python",
   "nbconvert_exporter": "python",
   "pygments_lexer": "ipython2",
   "version": "2.7.6"
  }
 },
 "nbformat": 4,
 "nbformat_minor": 5
}
