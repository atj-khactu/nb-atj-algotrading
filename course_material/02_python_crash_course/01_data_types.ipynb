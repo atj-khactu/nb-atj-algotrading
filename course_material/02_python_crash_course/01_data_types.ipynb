{
 "cells": [
  {
   "metadata": {},
   "cell_type": "markdown",
   "source": [
    "# 02 - Python Crash Course - Lesson 1\n",
    "In this section, we are going to cover the basics of the Python Programming Language. By the end of this section, you should have sufficient knowledge to use Python for Financial Data Analysis, Backtesting and writing your own Trading Bots.\n",
    "\n",
    "Feel free to skip this section in case you already know how to program in Python as this section is intended for beginner programmers. Also note that this section only covers the essential basics of Python to jump into algorithmic trading as soon as possible. For efficient learning, some concepts in programming are simplified and may not be 100% technically correct.\n",
    "\n",
    "## Content in this Notebook:\n",
    "\n",
    "* 2.1 - Hello World\n",
    "* 2.2 - Comments\n",
    "* 2.3 - Data Types\n",
    "* 2.4 - Comparison Operators\n",
    "* 2.5 - Logical Operators"
   ],
   "id": "54f83bd1828cd79b"
  },
  {
   "metadata": {},
   "cell_type": "markdown",
   "source": [
    "---\n",
    "## 2.1 - Hello World\n",
    "In JupyterLab, we have cells that can execute Python Code. We are going to print \"Hello World\" using Python's print() function."
   ],
   "id": "ec37e491b7760d6c"
  },
  {
   "metadata": {
    "ExecuteTime": {
     "end_time": "2024-11-14T15:20:42.291827Z",
     "start_time": "2024-11-14T15:20:42.288162Z"
    }
   },
   "cell_type": "code",
   "source": "print(\"Hello World\")",
   "id": "74e1a0e6ecba0a35",
   "outputs": [
    {
     "name": "stdout",
     "output_type": "stream",
     "text": [
      "Hello World\n"
     ]
    }
   ],
   "execution_count": 18
  },
  {
   "metadata": {
    "ExecuteTime": {
     "end_time": "2024-11-14T15:20:45.906393Z",
     "start_time": "2024-11-14T15:20:45.902890Z"
    }
   },
   "cell_type": "code",
   "source": [
    "# You can also print multiple arguments inside print()\n",
    "print(\"Hello\", \"World\")"
   ],
   "id": "95c769a9b893d2b1",
   "outputs": [
    {
     "name": "stdout",
     "output_type": "stream",
     "text": [
      "Hello World\n"
     ]
    }
   ],
   "execution_count": 19
  },
  {
   "metadata": {},
   "cell_type": "markdown",
   "source": [
    "---\n",
    "## 2.2 - Comments\n",
    "In Python, you can write comments using the '#'-sign. Comments do not affect Python code and add better readability the code you write."
   ],
   "id": "ce8b57dc600c3c14"
  },
  {
   "metadata": {
    "ExecuteTime": {
     "end_time": "2024-11-14T14:37:12.742975Z",
     "start_time": "2024-11-14T14:37:12.739894Z"
    }
   },
   "cell_type": "code",
   "source": "# This is a comment",
   "id": "1d778c136d0de6f5",
   "outputs": [],
   "execution_count": 9
  },
  {
   "metadata": {},
   "cell_type": "markdown",
   "source": [
    "---\n",
    "## 2.3 - Variables and Data Types\n",
    "In Python, you can store data inside variables. Data in Python comes in various forms, such as: strings, integers, floats, booleans and other.\n",
    "\n",
    "### Intergers\n",
    "An integer are a data type that represents whole numbers"
   ],
   "id": "9376ba4adf995001"
  },
  {
   "metadata": {
    "ExecuteTime": {
     "end_time": "2024-11-14T14:42:15.304188Z",
     "start_time": "2024-11-14T14:42:15.300642Z"
    }
   },
   "cell_type": "code",
   "source": [
    "# We can create a variable called \"some_integer\" and assign the integer value 10 to it\n",
    "some_integer = 10\n",
    "\n",
    "# By printing \"some_integer\" we get:\n",
    "print('', some_integer)"
   ],
   "id": "a3aaf004a45454fe",
   "outputs": [
    {
     "name": "stdout",
     "output_type": "stream",
     "text": [
      "10\n"
     ]
    }
   ],
   "execution_count": 10
  },
  {
   "metadata": {
    "ExecuteTime": {
     "end_time": "2024-11-14T15:24:53.754288Z",
     "start_time": "2024-11-14T15:24:53.742279Z"
    }
   },
   "cell_type": "code",
   "source": [
    "# You can add, subtract, multiply and divide integers\n",
    "int_a = 10\n",
    "int_b = 5\n",
    "\n",
    "print('Adding:', int_a + int_b)\n",
    "print('Subtracting:', int_a - int_b)\n",
    "print('Multiplying:', int_a * int_b)\n",
    "print('Dividing:', int_a / int_b)"
   ],
   "id": "7123e08bf8f1a0e3",
   "outputs": [
    {
     "name": "stdout",
     "output_type": "stream",
     "text": [
      "Adding: 15\n",
      "Subtracting: 5\n",
      "Multiplying: 50\n",
      "Dividing: 2.0\n"
     ]
    }
   ],
   "execution_count": 21
  },
  {
   "metadata": {},
   "cell_type": "markdown",
   "source": [
    "### Floats\n",
    "A float is a data type that represents numbers with a comma"
   ],
   "id": "7beb08f944c7378"
  },
  {
   "metadata": {
    "ExecuteTime": {
     "end_time": "2024-11-14T15:08:56.657622Z",
     "start_time": "2024-11-14T15:08:56.651480Z"
    }
   },
   "cell_type": "code",
   "source": [
    "# We can create a variable called \"some_float\" and assign the float value 3.14 to it\n",
    "some_float = 3.14\n",
    "\n",
    "# By printing \"some_float\" we get:\n",
    "print(some_float)"
   ],
   "id": "b10bebd43d5d094b",
   "outputs": [
    {
     "name": "stdout",
     "output_type": "stream",
     "text": [
      "3.14\n"
     ]
    }
   ],
   "execution_count": 11
  },
  {
   "metadata": {
    "ExecuteTime": {
     "end_time": "2024-11-14T15:26:46.578128Z",
     "start_time": "2024-11-14T15:26:46.573798Z"
    }
   },
   "cell_type": "code",
   "source": [
    "# You can add, subtract, multiply and divide floats. The same way like integers\n",
    "float_a = 6.18\n",
    "float_b = 7.77\n",
    "\n",
    "print('Adding:', float_a + float_b)\n",
    "print('Subtracting:', float_a - float_b)\n",
    "print('Multiplying:', float_a * float_b)\n",
    "print('Dividing:', float_a / float_b)"
   ],
   "id": "5dfeeee6c08ee90f",
   "outputs": [
    {
     "name": "stdout",
     "output_type": "stream",
     "text": [
      "Adding: 13.95\n",
      "Subtracting: -1.5899999999999999\n",
      "Multiplying: 48.01859999999999\n",
      "Dividing: 0.7953667953667953\n"
     ]
    }
   ],
   "execution_count": 23
  },
  {
   "metadata": {
    "ExecuteTime": {
     "end_time": "2024-11-14T15:29:15.366421Z",
     "start_time": "2024-11-14T15:29:15.361804Z"
    }
   },
   "cell_type": "code",
   "source": [
    "# Rounding float numbers\n",
    "float_a = 6.18\n",
    "float_b = 7.77\n",
    "print('No rounding:', float_a / float_b)\n",
    "\n",
    "# You can round a number by using the round function. 1st argument (float_a / float_b) is the float number\n",
    "# Second argument (3) is the number of decimal places\n",
    "rounded_float = round(float_a / float_b, 3)\n",
    "print('Rounded:', rounded_float)"
   ],
   "id": "a0ac466e798d0bf5",
   "outputs": [
    {
     "name": "stdout",
     "output_type": "stream",
     "text": [
      "No rounding: 0.7953667953667953\n",
      "Rounded: 0.795\n"
     ]
    }
   ],
   "execution_count": 24
  },
  {
   "metadata": {},
   "cell_type": "markdown",
   "source": [
    "### Strings\n",
    "A string is a data type that represents a series of characters or just \"text\""
   ],
   "id": "40ffd815dc9e0b86"
  },
  {
   "metadata": {
    "ExecuteTime": {
     "end_time": "2024-11-14T15:12:52.478872Z",
     "start_time": "2024-11-14T15:12:52.474229Z"
    }
   },
   "cell_type": "code",
   "source": [
    "# We can create a variable called \"some_float\" and assign the float value 3.14 to it\n",
    "some_string = \"This is a string\"\n",
    "\n",
    "# By printing \"some_string\" we get:\n",
    "print(some_string)"
   ],
   "id": "9005f1712f01b22e",
   "outputs": [
    {
     "name": "stdout",
     "output_type": "stream",
     "text": [
      "This is a string\n"
     ]
    }
   ],
   "execution_count": 12
  },
  {
   "metadata": {
    "ExecuteTime": {
     "end_time": "2024-11-14T15:30:42.101558Z",
     "start_time": "2024-11-14T15:30:42.096809Z"
    }
   },
   "cell_type": "code",
   "source": [
    "# Adding strings\n",
    "string1 = 'ATJ'\n",
    "string2 = 'Trader'\n",
    "\n",
    "combined_string = string1 + string2\n",
    "print(combined_string)"
   ],
   "id": "dabf6f4311096c3e",
   "outputs": [
    {
     "name": "stdout",
     "output_type": "stream",
     "text": [
      "ATJTrader\n"
     ]
    }
   ],
   "execution_count": 27
  },
  {
   "metadata": {
    "ExecuteTime": {
     "end_time": "2024-11-14T15:33:53.127818Z",
     "start_time": "2024-11-14T15:33:53.123650Z"
    }
   },
   "cell_type": "code",
   "source": [
    "print('Full string:', combined_string)\n",
    "\n",
    "# Selecting first 3 characters\n",
    "print('First 3 characters:', combined_string[0:3])\n",
    "\n",
    "# Selecting last 3 characters\n",
    "print('First 3 characters:', combined_string[-3:])"
   ],
   "id": "39605d6c4f295fa8",
   "outputs": [
    {
     "name": "stdout",
     "output_type": "stream",
     "text": [
      "Full string: ATJTrader\n",
      "First 3 characters: ATJ\n",
      "First 3 characters: der\n"
     ]
    }
   ],
   "execution_count": 33
  },
  {
   "metadata": {},
   "cell_type": "markdown",
   "source": [
    "### Booleans\n",
    "A boolean as a data type that represents either True/False"
   ],
   "id": "14ac3a83a4e24fb9"
  },
  {
   "metadata": {
    "ExecuteTime": {
     "end_time": "2024-11-14T15:17:27.129369Z",
     "start_time": "2024-11-14T15:17:27.121704Z"
    }
   },
   "cell_type": "code",
   "source": [
    "# We can create a variables called \"value1\" and \"value2\" and respectively assign True/False\n",
    "value1 = True\n",
    "value2 = False\n",
    "\n",
    "# By printing we get:\n",
    "print('value1:', value1)\n",
    "print('value2:', value2)\n",
    "\n",
    "# Boolean values will be important when constructing Code logic with If-Statements or Loops"
   ],
   "id": "f480c68e834cd416",
   "outputs": [
    {
     "name": "stdout",
     "output_type": "stream",
     "text": [
      "value1: True\n",
      "value2: False\n"
     ]
    }
   ],
   "execution_count": 16
  },
  {
   "metadata": {},
   "cell_type": "markdown",
   "source": [
    "### Lists\n",
    "A list is a data type that contains a \"list\" of values. The values can be the same data type or even different data types"
   ],
   "id": "bd33c041f58d6c42"
  },
  {
   "metadata": {
    "ExecuteTime": {
     "end_time": "2024-11-14T15:40:54.990404Z",
     "start_time": "2024-11-14T15:40:54.987350Z"
    }
   },
   "cell_type": "code",
   "source": [
    "# We can create a variables called \"items\" with following values:\n",
    "items = [1, 5, 15, 199]\n",
    "print(items)"
   ],
   "id": "c7effb1ffe7a2edc",
   "outputs": [
    {
     "name": "stdout",
     "output_type": "stream",
     "text": [
      "[1, 5, 15, 199]\n"
     ]
    }
   ],
   "execution_count": 34
  },
  {
   "metadata": {
    "ExecuteTime": {
     "end_time": "2024-11-14T15:41:53.829006Z",
     "start_time": "2024-11-14T15:41:53.826095Z"
    }
   },
   "cell_type": "code",
   "source": [
    "# A list can contain various data types for each item\n",
    "items_various = [1, 'one', 1.0, True]\n",
    "print(items_various)"
   ],
   "id": "270fcf05c9b9cb26",
   "outputs": [
    {
     "name": "stdout",
     "output_type": "stream",
     "text": [
      "[1, 'one', 1.0, True]\n"
     ]
    }
   ],
   "execution_count": 35
  },
  {
   "metadata": {
    "ExecuteTime": {
     "end_time": "2024-11-14T15:51:45.742807Z",
     "start_time": "2024-11-14T15:51:45.739036Z"
    }
   },
   "cell_type": "code",
   "source": [
    "# you can query individual items by searching by its index\n",
    "symbol_list = ['EURUSD', 'GBPUSD', 'US30', 'BTCUSD']\n",
    "\n",
    "print('EURUSD is at index 0', symbol_list[0])\n",
    "print('GBPUSD is at index 1', symbol_list[1])\n",
    "print('US30 is at index 2', symbol_list[2])\n",
    "print('BTCUSD is at index 3', symbol_list[3])"
   ],
   "id": "4f88a42d5945e0df",
   "outputs": [
    {
     "name": "stdout",
     "output_type": "stream",
     "text": [
      "EURUSD is at index 0 EURUSD\n",
      "GBPUSD is at index 1 GBPUSD\n",
      "US30 is at index 2 US30\n",
      "BTCUSD is at index 3 BTCUSD\n"
     ]
    }
   ],
   "execution_count": 39
  },
  {
   "metadata": {
    "ExecuteTime": {
     "end_time": "2024-11-14T15:51:56.300767Z",
     "start_time": "2024-11-14T15:51:56.298053Z"
    }
   },
   "cell_type": "code",
   "source": [
    "# Iterating through a list - More will be covered in section loops\n",
    "for symbol in symbol_list:\n",
    "    print(symbol)"
   ],
   "id": "f7164964543eaf8e",
   "outputs": [
    {
     "name": "stdout",
     "output_type": "stream",
     "text": [
      "EURUSD\n",
      "GBPUSD\n",
      "US30\n",
      "BTCUSD\n"
     ]
    }
   ],
   "execution_count": 40
  },
  {
   "metadata": {},
   "cell_type": "markdown",
   "source": [
    "### Dictionaries\n",
    "A dictionary is a data type, that is able to store data on a key:value basis"
   ],
   "id": "762f655f775fbace"
  },
  {
   "metadata": {
    "ExecuteTime": {
     "end_time": "2024-11-14T15:54:47.720829Z",
     "start_time": "2024-11-14T15:54:47.717240Z"
    }
   },
   "cell_type": "code",
   "source": [
    "# We are going to create a simple dictionary that points a key value to another value.\n",
    "\n",
    "example_dict = {\n",
    "    1: 'Monday',\n",
    "    2: 'Tuesday',\n",
    "    3: 'Wednesday',\n",
    "    4: 'Thursday',\n",
    "    5: 'Friday',\n",
    "    6: 'Saturday',\n",
    "    7: 'Sunday'\n",
    "} \n",
    "\n",
    "# Getting a value based on key value\n",
    "print('Getting dictionary value for key value = 1:', example_dict[1])\n",
    "print('Getting dictionary value for key value = 4:', example_dict[4])"
   ],
   "id": "8dc646b4aa28dd17",
   "outputs": [
    {
     "name": "stdout",
     "output_type": "stream",
     "text": [
      "Getting dictionary value for key value = 1: Monday\n",
      "Getting dictionary value for key value = 4: Thursday\n"
     ]
    }
   ],
   "execution_count": 44
  },
  {
   "metadata": {
    "ExecuteTime": {
     "end_time": "2024-11-14T15:59:23.078262Z",
     "start_time": "2024-11-14T15:59:23.074881Z"
    }
   },
   "cell_type": "code",
   "source": [
    "# There are many use cases with dictionaries which will be covered in future lessons. Here is a practical example, how dictionaries are useful in trading.\n",
    "# In this example, want to get all symbols for each financial asset class\n",
    "\n",
    "asset_dict = {\n",
    "    'Forex': ['EURUSD', 'GBPUSD', 'USDJPY', 'CADUSD'],\n",
    "    'Stock Index': ['US30', 'DE40', 'JP225', 'UK100'],\n",
    "    'Crypto': ['BTCUSD', 'ETHUSD'],\n",
    "    'Metals': ['Gold', 'Silver'],\n",
    "    'Oil': ['Brent Oil', 'Crude Oil']\n",
    "}\n",
    "\n",
    "# With this dictionary, we can for example quickly retrieve symbol for each asset class. If I want to get Crypto symbol, I can use following syntax:\n",
    "print('Crypto Symbol:', asset_dict['Crypto'])"
   ],
   "id": "5c45bd47c55a72a1",
   "outputs": [
    {
     "name": "stdout",
     "output_type": "stream",
     "text": [
      "Crypto Symbol: ['BTCUSD', 'ETHUSD']\n"
     ]
    }
   ],
   "execution_count": 45
  },
  {
   "metadata": {},
   "cell_type": "markdown",
   "source": [
    "---\n",
    "## 2.4 - Comparison Operators\n",
    "You can compare the values of the same data type\n"
   ],
   "id": "8be58f070572bcbe"
  },
  {
   "metadata": {
    "ExecuteTime": {
     "end_time": "2024-11-18T13:15:40.357692Z",
     "start_time": "2024-11-18T13:15:40.354845Z"
    }
   },
   "cell_type": "code",
   "source": [
    "# Equal\n",
    "print('1 == 1:', 1 == 1)\n",
    "\n",
    "# Not Equal\n",
    "print('1 != 0:', 1 != 0)\n",
    "\n",
    "# Greater then\n",
    "print('5 > 3:', 5 > 3) \n",
    "\n",
    "# Lesser then\n",
    "print('5 < 3:', 5 < 3) \n",
    "\n",
    "# Greater or equal than\n",
    "print('6 >= 5:', 6 >= 5) \n",
    "\n",
    "# Lesser or equal than\n",
    "print('5 <= 5:', 5 <= 5) "
   ],
   "id": "1fb4783aabf2312c",
   "outputs": [
    {
     "name": "stdout",
     "output_type": "stream",
     "text": [
      "1 == 1: True\n",
      "1 != 0: True\n",
      "5 > 3: True\n",
      "5 < 3: False\n",
      "6 >= 5: True\n",
      "5 <= 5: True\n"
     ]
    }
   ],
   "execution_count": 6
  },
  {
   "metadata": {},
   "cell_type": "markdown",
   "source": [
    "---\n",
    "## 2.5 - Logical Operators\n",
    "You can compare the values of the same data type"
   ],
   "id": "e879cb10f8fab311"
  },
  {
   "metadata": {
    "ExecuteTime": {
     "end_time": "2024-11-18T13:21:14.197066Z",
     "start_time": "2024-11-18T13:21:14.193397Z"
    }
   },
   "cell_type": "code",
   "source": [
    "# and\n",
    "print('AND - OPERATOR')\n",
    "print('True and False:', True and False)\n",
    "print('True and True:', True and True)\n",
    "print('False and False:', False and False)\n",
    "print('---\\n')\n",
    "\n",
    "# or\n",
    "print('OR - OPERATOR')\n",
    "print('True or False:', True or False)\n",
    "print('True or True:', True or True)\n",
    "print('False or False:', False or False)\n",
    "print('---\\n')\n",
    "\n",
    "# not\n",
    "print('not True:', not True)\n",
    "print('not False:', not False)"
   ],
   "id": "7b58ce494250fb25",
   "outputs": [
    {
     "name": "stdout",
     "output_type": "stream",
     "text": [
      "AND - OPERATOR\n",
      "True and False: False\n",
      "True and True: True\n",
      "False and False: False\n",
      "---\n",
      "\n",
      "OR - OPERATOR\n",
      "True or False: True\n",
      "True or True: True\n",
      "False or False: False\n",
      "---\n",
      "\n",
      "not True: False\n",
      "not False: True\n"
     ]
    }
   ],
   "execution_count": 16
  },
  {
   "metadata": {},
   "cell_type": "code",
   "outputs": [],
   "execution_count": null,
   "source": "",
   "id": "11d638371e46264a"
  }
 ],
 "metadata": {
  "kernelspec": {
   "display_name": "Python 3",
   "language": "python",
   "name": "python3"
  },
  "language_info": {
   "codemirror_mode": {
    "name": "ipython",
    "version": 2
   },
   "file_extension": ".py",
   "mimetype": "text/x-python",
   "name": "python",
   "nbconvert_exporter": "python",
   "pygments_lexer": "ipython2",
   "version": "2.7.6"
  }
 },
 "nbformat": 4,
 "nbformat_minor": 5
}
