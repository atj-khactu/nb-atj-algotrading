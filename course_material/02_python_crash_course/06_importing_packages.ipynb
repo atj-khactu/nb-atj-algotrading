{
 "cells": [
  {
   "metadata": {},
   "cell_type": "markdown",
   "source": [
    "# 02 - Python Crash Course - Lesson 5\n",
    "In this lesson, we will import various packages that will be used during the algorithmic trading course.\n",
    "\n",
    "## Content in this Notebook:\n",
    "\n",
    "* 2.9 - Functions\n",
    "* 2.10 - Functions with return\n",
    "* 2.11 - Functions with Parameters\n",
    "* 2.12 - Functions with Keyword Parameters"
   ],
   "id": "89880d6cd7a2d8bf"
  },
  {
   "metadata": {},
   "cell_type": "code",
   "outputs": [],
   "execution_count": null,
   "source": "",
   "id": "1f886804496696b4"
  }
 ],
 "metadata": {
  "kernelspec": {
   "display_name": "Python 3",
   "language": "python",
   "name": "python3"
  },
  "language_info": {
   "codemirror_mode": {
    "name": "ipython",
    "version": 2
   },
   "file_extension": ".py",
   "mimetype": "text/x-python",
   "name": "python",
   "nbconvert_exporter": "python",
   "pygments_lexer": "ipython2",
   "version": "2.7.6"
  }
 },
 "nbformat": 4,
 "nbformat_minor": 5
}
