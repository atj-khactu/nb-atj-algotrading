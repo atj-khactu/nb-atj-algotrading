{
 "cells": [
  {
   "metadata": {},
   "cell_type": "markdown",
   "source": [
    "# 02 - Python Crash Course - Lesson 5\n",
    "In this lesson, we will have a look at Classes.\n",
    "\n",
    "## Content in this Notebook:\n",
    "\n",
    "* 2.9 - Functions\n",
    "* 2.10 - Functions with return\n",
    "* 2.11 - Functions with Parameters\n",
    "* 2.12 - Functions with Keyword Parameters"
   ],
   "id": "2605a2d2ea5fce2a"
  }
 ],
 "metadata": {
  "kernelspec": {
   "display_name": "Python 3",
   "language": "python",
   "name": "python3"
  },
  "language_info": {
   "codemirror_mode": {
    "name": "ipython",
    "version": 2
   },
   "file_extension": ".py",
   "mimetype": "text/x-python",
   "name": "python",
   "nbconvert_exporter": "python",
   "pygments_lexer": "ipython2",
   "version": "2.7.6"
  }
 },
 "nbformat": 4,
 "nbformat_minor": 5
}
