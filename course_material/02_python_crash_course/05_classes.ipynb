{
 "cells": [
  {
   "metadata": {},
   "cell_type": "markdown",
   "source": [
    "# 02 - Python Crash Course - Lesson 5\n",
    "In this lesson, we will have a look at Classes. Python is an Object Oriented Programming Language. An Object in Python represents a collection of values and functions directly related to that object. Technically, we call the collection of values and functions as \"properties and methods\".\n",
    "\n",
    "OOP Programming is an entire topic of its own but we will cut through most of the technicalities and explain the core concepts with the following example.  \n",
    "\n",
    "## Content in this Notebook:\n",
    "\n",
    "* 2.9 - Class Example - Trading Bot"
   ],
   "id": "2605a2d2ea5fce2a"
  },
  {
   "metadata": {},
   "cell_type": "markdown",
   "source": [
    "---\n",
    "## 2.9 - Class Example - Trading Bot"
   ],
   "id": "64533245e9a37f84"
  },
  {
   "metadata": {
    "ExecuteTime": {
     "end_time": "2024-11-19T16:01:16.589796Z",
     "start_time": "2024-11-19T16:01:16.586211Z"
    }
   },
   "cell_type": "code",
   "source": [
    "class TradingBot:\n",
    "    # initializing default when creating the class\n",
    "    def __init__(self, name, account_balance, account_currency):\n",
    "        # properties\n",
    "        self.name = name\n",
    "        self.account_balance = account_balance\n",
    "        self.account_currency = account_currency\n",
    "    \n",
    "    # methods\n",
    "    def open_trade(self, symbol, order_type, volume):\n",
    "        print(f'The Bot is opening a {order_type} trade on {symbol} with volume {volume}')\n",
    "        \n",
    "    def close_all_trades(self):\n",
    "        print('The Bot is closing all trades now')\n",
    "\n",
    "# initializing a Trading Bot class        \n",
    "bot = TradingBot('ATJ Bot', 10000, 'EUR')"
   ],
   "id": "43b66448b050b639",
   "outputs": [],
   "execution_count": 13
  },
  {
   "metadata": {
    "ExecuteTime": {
     "end_time": "2024-11-19T16:01:17.696133Z",
     "start_time": "2024-11-19T16:01:17.692558Z"
    }
   },
   "cell_type": "code",
   "source": [
    "# Getting the Trading Bot's name\n",
    "bot.name"
   ],
   "id": "f8fb7d4a9b317b72",
   "outputs": [
    {
     "data": {
      "text/plain": [
       "'ATJ Bot'"
      ]
     },
     "execution_count": 14,
     "metadata": {},
     "output_type": "execute_result"
    }
   ],
   "execution_count": 14
  },
  {
   "metadata": {
    "ExecuteTime": {
     "end_time": "2024-11-19T15:58:58.209418Z",
     "start_time": "2024-11-19T15:58:58.205082Z"
    }
   },
   "cell_type": "code",
   "source": [
    "# Getting the Trading Bot's account balance\n",
    "bot.account_balance"
   ],
   "id": "7703f3a317a64903",
   "outputs": [
    {
     "data": {
      "text/plain": [
       "10000"
      ]
     },
     "execution_count": 10,
     "metadata": {},
     "output_type": "execute_result"
    }
   ],
   "execution_count": 10
  },
  {
   "metadata": {
    "ExecuteTime": {
     "end_time": "2024-11-19T16:01:00.473096Z",
     "start_time": "2024-11-19T16:01:00.469694Z"
    }
   },
   "cell_type": "code",
   "source": [
    "# A method is a function that is accessible through a class. The class TradingBot has a function to open and close trades. Currently it is only printing what it is doing but in the future, it will be able to open real trades on a trading platform\n",
    "\n",
    "symbol = 'EURUSD'\n",
    "order_type = 'buy'\n",
    "volume = 1000\n",
    "\n",
    "# symbol, order_type and volume are required to call this method\n",
    "bot.open_trade(symbol, order_type, volume)"
   ],
   "id": "a3be5a11e2aff7f6",
   "outputs": [
    {
     "name": "stdout",
     "output_type": "stream",
     "text": [
      "I am opening a buy trade on EURUSD with volume 1000\n"
     ]
    }
   ],
   "execution_count": 12
  },
  {
   "metadata": {
    "ExecuteTime": {
     "end_time": "2024-11-19T16:01:36.350848Z",
     "start_time": "2024-11-19T16:01:36.348026Z"
    }
   },
   "cell_type": "code",
   "source": [
    "# The bot is also able to close positions using this method\n",
    "bot.close_all_trades()"
   ],
   "id": "38a34b169decf939",
   "outputs": [
    {
     "name": "stdout",
     "output_type": "stream",
     "text": [
      "The Bot is closing all trades now\n"
     ]
    }
   ],
   "execution_count": 15
  },
  {
   "metadata": {},
   "cell_type": "code",
   "outputs": [],
   "execution_count": null,
   "source": "",
   "id": "5fad812d9268a0ea"
  }
 ],
 "metadata": {
  "kernelspec": {
   "display_name": "Python 3",
   "language": "python",
   "name": "python3"
  },
  "language_info": {
   "codemirror_mode": {
    "name": "ipython",
    "version": 2
   },
   "file_extension": ".py",
   "mimetype": "text/x-python",
   "name": "python",
   "nbconvert_exporter": "python",
   "pygments_lexer": "ipython2",
   "version": "2.7.6"
  }
 },
 "nbformat": 4,
 "nbformat_minor": 5
}
